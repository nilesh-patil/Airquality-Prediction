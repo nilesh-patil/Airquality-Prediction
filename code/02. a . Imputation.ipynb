{
 "cells": [
  {
   "cell_type": "code",
   "execution_count": 2,
   "metadata": {
    "collapsed": false,
    "scrolled": true
   },
   "outputs": [],
   "source": [
    "%matplotlib inline\n",
    "\n",
    "import pandas as pd\n",
    "import numpy as np\n",
    "import seaborn as sns\n",
    "import matplotlib.pyplot as plt\n",
    "import folium\n",
    "from folium import plugins\n",
    "import fancyimpute"
   ]
  },
  {
   "cell_type": "code",
   "execution_count": 3,
   "metadata": {
    "collapsed": true
   },
   "outputs": [],
   "source": [
    "X_incomplete = pd.read_csv(\n",
    "    '../data/daily/combined_wide/combined_wide_all_missing.txt',\n",
    "    sep='|')"
   ]
  },
  {
   "cell_type": "markdown",
   "metadata": {},
   "source": [
    "### 02. Imputation prep"
   ]
  },
  {
   "cell_type": "code",
   "execution_count": 4,
   "metadata": {
    "collapsed": true
   },
   "outputs": [],
   "source": [
    "from fancyimpute import BiScaler, KNN, NuclearNormMinimization, SoftImpute, MICE\n",
    "\n",
    "filled_path = '../data/daily/combined_wide/combined_wide_all_filled_'"
   ]
  },
  {
   "cell_type": "markdown",
   "metadata": {},
   "source": [
    "#### 02 . a. SoftImpute"
   ]
  },
  {
   "cell_type": "code",
   "execution_count": null,
   "metadata": {
    "collapsed": true
   },
   "outputs": [],
   "source": [
    "print('SoftImpute')\n",
    "\n",
    "X_filled_si = SoftImpute(n_power_iterations=5,\n",
    "                         max_iters=250,\n",
    "                         init_fill_method='mean').complete(X_incomplete)\n",
    "\n",
    "X_filled_si = pd.DataFrame(X_filled_si)\n",
    "X_filled_si.columns = columns\n",
    "X_filled_si.to_csv(filled_path+'si.txt',sep='|',index=False)"
   ]
  },
  {
   "cell_type": "markdown",
   "metadata": {},
   "source": [
    "#### 02 . b . MICE"
   ]
  },
  {
   "cell_type": "code",
   "execution_count": null,
   "metadata": {
    "collapsed": true
   },
   "outputs": [],
   "source": [
    "print('MICE')\n",
    "\n",
    "z = MICE2(n_pmm_neighbors=100,\n",
    "          n_imputations=250,\n",
    "          init_fill_method='median',\n",
    "          verbose=False).complete(X_incomplete)\n",
    "\n",
    "missing_data = np.array(z[0])\n",
    "missing_bool = z[1]\n",
    "missing_replacement = z[2]\n",
    "np.putmask(missing_data,missing_bool,missing_replacement)\n",
    "X_filled_mice = pd.DataFrame(missing_data)\n",
    "X_filled_mice.columns = columns\n",
    "X_filled_mice.to_csv(path_filled+'mice.txt',sep='|',index=False)"
   ]
  },
  {
   "cell_type": "markdown",
   "metadata": {},
   "source": [
    "#### 02 . c . KNN"
   ]
  },
  {
   "cell_type": "markdown",
   "metadata": {},
   "source": [
    "print('KNN')\n",
    "\n",
    "X_filled_knn = KNN(k=100).complete(X_incomplete)\n",
    "X_filled_knn = pd.DataFrame(X_filled_knn)\n",
    "X_filled_knn.columns = columns\n",
    "X_filled_knn.to_csv(path_filled+'knn.txt',sep='|',index=False)"
   ]
  },
  {
   "cell_type": "markdown",
   "metadata": {},
   "source": [
    "#### 02 . d . NNM"
   ]
  },
  {
   "cell_type": "markdown",
   "metadata": {
    "collapsed": true
   },
   "source": [
    "print('nnm')\n",
    "\n",
    "X_filled_nnm = pd.DataFrame(NuclearNormMinimization().complete(X_incomplete))\n",
    "X_filled_nnm.columns = columns\n",
    "X_filled_nnm.to_csv(path_filled+'nnm.txt',sep='|',index=False)"
   ]
  }
 ],
 "metadata": {
  "kernelspec": {
   "display_name": "Python 2 (tensorflow)",
   "language": "python",
   "name": "python-2.7.10-b1-tensorflow"
  },
  "language_info": {
   "codemirror_mode": {
    "name": "ipython",
    "version": 2
   },
   "file_extension": ".py",
   "mimetype": "text/x-python",
   "name": "python",
   "nbconvert_exporter": "python",
   "pygments_lexer": "ipython2",
   "version": "2.7.10"
  },
  "widgets": {
   "state": {},
   "version": "1.1.2"
  }
 },
 "nbformat": 4,
 "nbformat_minor": 0
}
