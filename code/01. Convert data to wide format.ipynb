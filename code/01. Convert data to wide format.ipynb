{
 "cells": [
  {
   "cell_type": "code",
   "execution_count": 40,
   "metadata": {
    "collapsed": true
   },
   "outputs": [],
   "source": [
    "%matplotlib inline"
   ]
  },
  {
   "cell_type": "code",
   "execution_count": 41,
   "metadata": {
    "collapsed": false
   },
   "outputs": [],
   "source": [
    "import pandas as pd\n",
    "import numpy as np\n",
    "import seaborn as sns\n",
    "import matplotlib.pyplot as plt"
   ]
  },
  {
   "cell_type": "code",
   "execution_count": 42,
   "metadata": {
    "collapsed": true
   },
   "outputs": [],
   "source": [
    "year = 2015\n",
    "path = '/public/npatil4/dataMining/data/daily/combined_long/'"
   ]
  },
  {
   "cell_type": "code",
   "execution_count": 43,
   "metadata": {
    "collapsed": false
   },
   "outputs": [],
   "source": [
    "data_long = pd.read_csv(path+'combined_long_'+str(year)+'.csv',sep='|')"
   ]
  },
  {
   "cell_type": "code",
   "execution_count": 44,
   "metadata": {
    "collapsed": false
   },
   "outputs": [],
   "source": [
    "columns_all = [x.replace(' ','') for x in data_long.columns]\n",
    "data_long.columns =  columns_all"
   ]
  },
  {
   "cell_type": "code",
   "execution_count": 45,
   "metadata": {
    "collapsed": false
   },
   "outputs": [
    {
     "data": {
      "text/html": [
       "<div>\n",
       "<table border=\"1\" class=\"dataframe\">\n",
       "  <thead>\n",
       "    <tr style=\"text-align: right;\">\n",
       "      <th></th>\n",
       "      <th>DateLocal</th>\n",
       "      <th>CityName</th>\n",
       "      <th>CountyName</th>\n",
       "      <th>StateName</th>\n",
       "      <th>Latitude</th>\n",
       "      <th>Longitude</th>\n",
       "      <th>ParameterName</th>\n",
       "      <th>ArithmeticMean</th>\n",
       "    </tr>\n",
       "  </thead>\n",
       "  <tbody>\n",
       "    <tr>\n",
       "      <th>0</th>\n",
       "      <td>2015-01-01</td>\n",
       "      <td>Air Force Academy</td>\n",
       "      <td>El Paso</td>\n",
       "      <td>Colorado</td>\n",
       "      <td>38.958341</td>\n",
       "      <td>-104.817215</td>\n",
       "      <td>Ozone</td>\n",
       "      <td>0.035167</td>\n",
       "    </tr>\n",
       "    <tr>\n",
       "      <th>1</th>\n",
       "      <td>2015-01-01</td>\n",
       "      <td>Akron</td>\n",
       "      <td>Summit</td>\n",
       "      <td>Ohio</td>\n",
       "      <td>41.063526</td>\n",
       "      <td>-81.468956</td>\n",
       "      <td>PM2.5 - Local Conditions</td>\n",
       "      <td>10.225000</td>\n",
       "    </tr>\n",
       "    <tr>\n",
       "      <th>2</th>\n",
       "      <td>2015-01-01</td>\n",
       "      <td>Akron</td>\n",
       "      <td>Summit</td>\n",
       "      <td>Ohio</td>\n",
       "      <td>41.063526</td>\n",
       "      <td>-81.468956</td>\n",
       "      <td>Sulfur dioxide</td>\n",
       "      <td>1.237267</td>\n",
       "    </tr>\n",
       "    <tr>\n",
       "      <th>3</th>\n",
       "      <td>2015-01-01</td>\n",
       "      <td>Akron</td>\n",
       "      <td>Summit</td>\n",
       "      <td>Ohio</td>\n",
       "      <td>41.106486</td>\n",
       "      <td>-81.503547</td>\n",
       "      <td>Carbon monoxide</td>\n",
       "      <td>0.100000</td>\n",
       "    </tr>\n",
       "    <tr>\n",
       "      <th>4</th>\n",
       "      <td>2015-01-01</td>\n",
       "      <td>Albany</td>\n",
       "      <td>Albany</td>\n",
       "      <td>New York</td>\n",
       "      <td>42.680750</td>\n",
       "      <td>-73.757330</td>\n",
       "      <td>Carbon monoxide</td>\n",
       "      <td>0.115680</td>\n",
       "    </tr>\n",
       "  </tbody>\n",
       "</table>\n",
       "</div>"
      ],
      "text/plain": [
       "    DateLocal           CityName CountyName StateName   Latitude   Longitude  \\\n",
       "0  2015-01-01  Air Force Academy    El Paso  Colorado  38.958341 -104.817215   \n",
       "1  2015-01-01              Akron     Summit      Ohio  41.063526  -81.468956   \n",
       "2  2015-01-01              Akron     Summit      Ohio  41.063526  -81.468956   \n",
       "3  2015-01-01              Akron     Summit      Ohio  41.106486  -81.503547   \n",
       "4  2015-01-01             Albany     Albany  New York  42.680750  -73.757330   \n",
       "\n",
       "              ParameterName  ArithmeticMean  \n",
       "0                     Ozone        0.035167  \n",
       "1  PM2.5 - Local Conditions       10.225000  \n",
       "2            Sulfur dioxide        1.237267  \n",
       "3           Carbon monoxide        0.100000  \n",
       "4           Carbon monoxide        0.115680  "
      ]
     },
     "execution_count": 45,
     "metadata": {},
     "output_type": "execute_result"
    }
   ],
   "source": [
    "data_long.head()"
   ]
  },
  {
   "cell_type": "code",
   "execution_count": 46,
   "metadata": {
    "collapsed": false,
    "scrolled": true
   },
   "outputs": [],
   "source": [
    "data_wide = data_long.pivot_table(values=['ArithmeticMean'],\n",
    "                           columns=['ParameterName'],\n",
    "                           index=columns_all[:-2])\n",
    "#data_wide = data_wide.reset_index()"
   ]
  },
  {
   "cell_type": "code",
   "execution_count": 47,
   "metadata": {
    "collapsed": false
   },
   "outputs": [],
   "source": [
    "data_wide.columns = data_wide.columns.get_level_values(1)\n",
    "data_wide.reset_index(inplace=True)\n",
    "data_wide.columns.name=None"
   ]
  },
  {
   "cell_type": "code",
   "execution_count": 48,
   "metadata": {
    "collapsed": false
   },
   "outputs": [
    {
     "data": {
      "text/html": [
       "<div>\n",
       "<table border=\"1\" class=\"dataframe\">\n",
       "  <thead>\n",
       "    <tr style=\"text-align: right;\">\n",
       "      <th></th>\n",
       "      <th>DateLocal</th>\n",
       "      <th>CityName</th>\n",
       "      <th>CountyName</th>\n",
       "      <th>StateName</th>\n",
       "      <th>Latitude</th>\n",
       "      <th>Longitude</th>\n",
       "      <th>Barometric pressure</th>\n",
       "      <th>Carbon monoxide</th>\n",
       "      <th>Dew Point</th>\n",
       "      <th>Nitrogen dioxide (NO2)</th>\n",
       "      <th>Outdoor Temperature</th>\n",
       "      <th>Ozone</th>\n",
       "      <th>PM2.5 - Local Conditions</th>\n",
       "      <th>Relative Humidity</th>\n",
       "      <th>Sulfur dioxide</th>\n",
       "      <th>Wind Speed - Resultant</th>\n",
       "    </tr>\n",
       "  </thead>\n",
       "  <tbody>\n",
       "    <tr>\n",
       "      <th>0</th>\n",
       "      <td>2015-01-01</td>\n",
       "      <td>Air Force Academy</td>\n",
       "      <td>El Paso</td>\n",
       "      <td>Colorado</td>\n",
       "      <td>38.958341</td>\n",
       "      <td>-104.817215</td>\n",
       "      <td>NaN</td>\n",
       "      <td>NaN</td>\n",
       "      <td>NaN</td>\n",
       "      <td>NaN</td>\n",
       "      <td>NaN</td>\n",
       "      <td>0.035167</td>\n",
       "      <td>NaN</td>\n",
       "      <td>NaN</td>\n",
       "      <td>NaN</td>\n",
       "      <td>NaN</td>\n",
       "    </tr>\n",
       "    <tr>\n",
       "      <th>1</th>\n",
       "      <td>2015-01-01</td>\n",
       "      <td>Akron</td>\n",
       "      <td>Summit</td>\n",
       "      <td>Ohio</td>\n",
       "      <td>41.063526</td>\n",
       "      <td>-81.468956</td>\n",
       "      <td>NaN</td>\n",
       "      <td>NaN</td>\n",
       "      <td>NaN</td>\n",
       "      <td>NaN</td>\n",
       "      <td>NaN</td>\n",
       "      <td>NaN</td>\n",
       "      <td>10.225000</td>\n",
       "      <td>NaN</td>\n",
       "      <td>1.237267</td>\n",
       "      <td>NaN</td>\n",
       "    </tr>\n",
       "    <tr>\n",
       "      <th>2</th>\n",
       "      <td>2015-01-01</td>\n",
       "      <td>Akron</td>\n",
       "      <td>Summit</td>\n",
       "      <td>Ohio</td>\n",
       "      <td>41.106486</td>\n",
       "      <td>-81.503547</td>\n",
       "      <td>NaN</td>\n",
       "      <td>0.10000</td>\n",
       "      <td>NaN</td>\n",
       "      <td>NaN</td>\n",
       "      <td>NaN</td>\n",
       "      <td>NaN</td>\n",
       "      <td>NaN</td>\n",
       "      <td>NaN</td>\n",
       "      <td>NaN</td>\n",
       "      <td>NaN</td>\n",
       "    </tr>\n",
       "    <tr>\n",
       "      <th>3</th>\n",
       "      <td>2015-01-01</td>\n",
       "      <td>Albany</td>\n",
       "      <td>Albany</td>\n",
       "      <td>New York</td>\n",
       "      <td>42.680750</td>\n",
       "      <td>-73.757330</td>\n",
       "      <td>NaN</td>\n",
       "      <td>0.11568</td>\n",
       "      <td>NaN</td>\n",
       "      <td>NaN</td>\n",
       "      <td>NaN</td>\n",
       "      <td>0.022333</td>\n",
       "      <td>NaN</td>\n",
       "      <td>NaN</td>\n",
       "      <td>3.152083</td>\n",
       "      <td>NaN</td>\n",
       "    </tr>\n",
       "    <tr>\n",
       "      <th>4</th>\n",
       "      <td>2015-01-01</td>\n",
       "      <td>Albany</td>\n",
       "      <td>Dougherty</td>\n",
       "      <td>Georgia</td>\n",
       "      <td>31.576917</td>\n",
       "      <td>-84.100194</td>\n",
       "      <td>NaN</td>\n",
       "      <td>NaN</td>\n",
       "      <td>NaN</td>\n",
       "      <td>NaN</td>\n",
       "      <td>NaN</td>\n",
       "      <td>NaN</td>\n",
       "      <td>17.469444</td>\n",
       "      <td>NaN</td>\n",
       "      <td>NaN</td>\n",
       "      <td>NaN</td>\n",
       "    </tr>\n",
       "  </tbody>\n",
       "</table>\n",
       "</div>"
      ],
      "text/plain": [
       "    DateLocal           CityName CountyName StateName   Latitude   Longitude  \\\n",
       "0  2015-01-01  Air Force Academy    El Paso  Colorado  38.958341 -104.817215   \n",
       "1  2015-01-01              Akron     Summit      Ohio  41.063526  -81.468956   \n",
       "2  2015-01-01              Akron     Summit      Ohio  41.106486  -81.503547   \n",
       "3  2015-01-01             Albany     Albany  New York  42.680750  -73.757330   \n",
       "4  2015-01-01             Albany  Dougherty   Georgia  31.576917  -84.100194   \n",
       "\n",
       "   Barometric pressure  Carbon monoxide  Dew Point  Nitrogen dioxide (NO2)  \\\n",
       "0                  NaN              NaN        NaN                     NaN   \n",
       "1                  NaN              NaN        NaN                     NaN   \n",
       "2                  NaN          0.10000        NaN                     NaN   \n",
       "3                  NaN          0.11568        NaN                     NaN   \n",
       "4                  NaN              NaN        NaN                     NaN   \n",
       "\n",
       "   Outdoor Temperature     Ozone  PM2.5 - Local Conditions  \\\n",
       "0                  NaN  0.035167                       NaN   \n",
       "1                  NaN       NaN                 10.225000   \n",
       "2                  NaN       NaN                       NaN   \n",
       "3                  NaN  0.022333                       NaN   \n",
       "4                  NaN       NaN                 17.469444   \n",
       "\n",
       "   Relative Humidity   Sulfur dioxide  Wind Speed - Resultant  \n",
       "0                 NaN             NaN                     NaN  \n",
       "1                 NaN        1.237267                     NaN  \n",
       "2                 NaN             NaN                     NaN  \n",
       "3                 NaN        3.152083                     NaN  \n",
       "4                 NaN             NaN                     NaN  "
      ]
     },
     "execution_count": 48,
     "metadata": {},
     "output_type": "execute_result"
    }
   ],
   "source": [
    "data_wide.head()"
   ]
  },
  {
   "cell_type": "code",
   "execution_count": 49,
   "metadata": {
    "collapsed": false
   },
   "outputs": [],
   "source": [
    "columns_all = [x.replace(' ','') for x in data_wide.columns]\n",
    "data_wide.columns =  [str(x) for x in columns_all]"
   ]
  },
  {
   "cell_type": "code",
   "execution_count": 50,
   "metadata": {
    "collapsed": false
   },
   "outputs": [],
   "source": [
    "data_wide = data_wide[~data_wide['PM2.5-LocalConditions'].isnull()]"
   ]
  },
  {
   "cell_type": "code",
   "execution_count": 51,
   "metadata": {
    "collapsed": false
   },
   "outputs": [],
   "source": [
    "data_wide['DateLocal'] = pd.to_datetime(data_wide.DateLocal)\n",
    "data_wide['Month'] = data_wide.DateLocal.dt.month\n",
    "data_wide['Weekday'] = data_wide.DateLocal.dt.weekday"
   ]
  },
  {
   "cell_type": "code",
   "execution_count": 52,
   "metadata": {
    "collapsed": false
   },
   "outputs": [
    {
     "data": {
      "text/plain": [
       "Index([u'DateLocal', u'CityName', u'CountyName', u'StateName', u'Latitude',\n",
       "       u'Longitude', u'Barometricpressure', u'Carbonmonoxide', u'DewPoint',\n",
       "       u'Nitrogendioxide(NO2)', u'OutdoorTemperature', u'Ozone',\n",
       "       u'PM2.5-LocalConditions', u'RelativeHumidity', u'Sulfurdioxide',\n",
       "       u'WindSpeed-Resultant', u'Month', u'Weekday'],\n",
       "      dtype='object')"
      ]
     },
     "execution_count": 52,
     "metadata": {},
     "output_type": "execute_result"
    }
   ],
   "source": [
    "data_wide.columns"
   ]
  },
  {
   "cell_type": "code",
   "execution_count": 53,
   "metadata": {
    "collapsed": false
   },
   "outputs": [],
   "source": [
    "data_wide.rename(index=str,\n",
    "                 inplace=True,\n",
    "                 columns={'PM2.5-LocalConditions':'PM',\n",
    "                         'WindSpeed-Resultant':'WindSpeed',\n",
    "                         'Nitrogendioxide(NO2)':'NitrogenDioxide'})"
   ]
  },
  {
   "cell_type": "code",
   "execution_count": 29,
   "metadata": {
    "collapsed": true
   },
   "outputs": [],
   "source": [
    "data_wide.to_csv('/public/npatil4/dataMining/data/daily/combined_wide/combined_wide_'+str(year)+'.txt',\n",
    "                 sep='|',\n",
    "                 index=False)"
   ]
  },
  {
   "cell_type": "code",
   "execution_count": 30,
   "metadata": {
    "collapsed": false
   },
   "outputs": [
    {
     "data": {
      "text/html": [
       "<div>\n",
       "<table border=\"1\" class=\"dataframe\">\n",
       "  <thead>\n",
       "    <tr style=\"text-align: right;\">\n",
       "      <th></th>\n",
       "      <th>DateLocal</th>\n",
       "      <th>CityName</th>\n",
       "      <th>CountyName</th>\n",
       "      <th>StateName</th>\n",
       "      <th>Latitude</th>\n",
       "      <th>Longitude</th>\n",
       "      <th>Barometricpressure</th>\n",
       "      <th>Carbonmonoxide</th>\n",
       "      <th>DewPoint</th>\n",
       "      <th>NitrogenDioxide</th>\n",
       "      <th>OutdoorTemperature</th>\n",
       "      <th>Ozone</th>\n",
       "      <th>PM</th>\n",
       "      <th>RelativeHumidity</th>\n",
       "      <th>Sulfurdioxide</th>\n",
       "      <th>WindSpeed</th>\n",
       "      <th>Month</th>\n",
       "      <th>Weekday</th>\n",
       "    </tr>\n",
       "  </thead>\n",
       "  <tbody>\n",
       "    <tr>\n",
       "      <th>1</th>\n",
       "      <td>2015-01-01</td>\n",
       "      <td>Akron</td>\n",
       "      <td>Summit</td>\n",
       "      <td>Ohio</td>\n",
       "      <td>41.063526</td>\n",
       "      <td>-81.468956</td>\n",
       "      <td>NaN</td>\n",
       "      <td>NaN</td>\n",
       "      <td>NaN</td>\n",
       "      <td>NaN</td>\n",
       "      <td>NaN</td>\n",
       "      <td>NaN</td>\n",
       "      <td>10.225000</td>\n",
       "      <td>NaN</td>\n",
       "      <td>1.237267</td>\n",
       "      <td>NaN</td>\n",
       "      <td>1</td>\n",
       "      <td>3</td>\n",
       "    </tr>\n",
       "    <tr>\n",
       "      <th>4</th>\n",
       "      <td>2015-01-01</td>\n",
       "      <td>Albany</td>\n",
       "      <td>Dougherty</td>\n",
       "      <td>Georgia</td>\n",
       "      <td>31.576917</td>\n",
       "      <td>-84.100194</td>\n",
       "      <td>NaN</td>\n",
       "      <td>NaN</td>\n",
       "      <td>NaN</td>\n",
       "      <td>NaN</td>\n",
       "      <td>NaN</td>\n",
       "      <td>NaN</td>\n",
       "      <td>17.469444</td>\n",
       "      <td>NaN</td>\n",
       "      <td>NaN</td>\n",
       "      <td>NaN</td>\n",
       "      <td>1</td>\n",
       "      <td>3</td>\n",
       "    </tr>\n",
       "    <tr>\n",
       "      <th>5</th>\n",
       "      <td>2015-01-01</td>\n",
       "      <td>Albuquerque</td>\n",
       "      <td>Bernalillo</td>\n",
       "      <td>New Mexico</td>\n",
       "      <td>35.063100</td>\n",
       "      <td>-106.578785</td>\n",
       "      <td>NaN</td>\n",
       "      <td>NaN</td>\n",
       "      <td>NaN</td>\n",
       "      <td>NaN</td>\n",
       "      <td>NaN</td>\n",
       "      <td>0.013458</td>\n",
       "      <td>14.543750</td>\n",
       "      <td>NaN</td>\n",
       "      <td>NaN</td>\n",
       "      <td>NaN</td>\n",
       "      <td>1</td>\n",
       "      <td>3</td>\n",
       "    </tr>\n",
       "    <tr>\n",
       "      <th>6</th>\n",
       "      <td>2015-01-01</td>\n",
       "      <td>Albuquerque</td>\n",
       "      <td>Bernalillo</td>\n",
       "      <td>New Mexico</td>\n",
       "      <td>35.134300</td>\n",
       "      <td>-106.585200</td>\n",
       "      <td>849.541667</td>\n",
       "      <td>0.337082</td>\n",
       "      <td>NaN</td>\n",
       "      <td>NaN</td>\n",
       "      <td>25.8125</td>\n",
       "      <td>0.013833</td>\n",
       "      <td>19.322500</td>\n",
       "      <td>68.541667</td>\n",
       "      <td>0.520833</td>\n",
       "      <td>2.254167</td>\n",
       "      <td>1</td>\n",
       "      <td>3</td>\n",
       "    </tr>\n",
       "    <tr>\n",
       "      <th>13</th>\n",
       "      <td>2015-01-01</td>\n",
       "      <td>Altoona</td>\n",
       "      <td>Blair</td>\n",
       "      <td>Pennsylvania</td>\n",
       "      <td>40.535278</td>\n",
       "      <td>-78.370833</td>\n",
       "      <td>NaN</td>\n",
       "      <td>NaN</td>\n",
       "      <td>NaN</td>\n",
       "      <td>NaN</td>\n",
       "      <td>NaN</td>\n",
       "      <td>0.028167</td>\n",
       "      <td>8.133334</td>\n",
       "      <td>NaN</td>\n",
       "      <td>4.435416</td>\n",
       "      <td>NaN</td>\n",
       "      <td>1</td>\n",
       "      <td>3</td>\n",
       "    </tr>\n",
       "  </tbody>\n",
       "</table>\n",
       "</div>"
      ],
      "text/plain": [
       "    DateLocal     CityName  CountyName     StateName   Latitude   Longitude  \\\n",
       "1  2015-01-01        Akron      Summit          Ohio  41.063526  -81.468956   \n",
       "4  2015-01-01       Albany   Dougherty       Georgia  31.576917  -84.100194   \n",
       "5  2015-01-01  Albuquerque  Bernalillo    New Mexico  35.063100 -106.578785   \n",
       "6  2015-01-01  Albuquerque  Bernalillo    New Mexico  35.134300 -106.585200   \n",
       "13 2015-01-01      Altoona       Blair  Pennsylvania  40.535278  -78.370833   \n",
       "\n",
       "    Barometricpressure  Carbonmonoxide  DewPoint  NitrogenDioxide  \\\n",
       "1                  NaN             NaN       NaN              NaN   \n",
       "4                  NaN             NaN       NaN              NaN   \n",
       "5                  NaN             NaN       NaN              NaN   \n",
       "6           849.541667        0.337082       NaN              NaN   \n",
       "13                 NaN             NaN       NaN              NaN   \n",
       "\n",
       "    OutdoorTemperature     Ozone         PM  RelativeHumidity  Sulfurdioxide  \\\n",
       "1                  NaN       NaN  10.225000               NaN       1.237267   \n",
       "4                  NaN       NaN  17.469444               NaN            NaN   \n",
       "5                  NaN  0.013458  14.543750               NaN            NaN   \n",
       "6              25.8125  0.013833  19.322500         68.541667       0.520833   \n",
       "13                 NaN  0.028167   8.133334               NaN       4.435416   \n",
       "\n",
       "    WindSpeed  Month  Weekday  \n",
       "1         NaN      1        3  \n",
       "4         NaN      1        3  \n",
       "5         NaN      1        3  \n",
       "6    2.254167      1        3  \n",
       "13        NaN      1        3  "
      ]
     },
     "execution_count": 30,
     "metadata": {},
     "output_type": "execute_result"
    }
   ],
   "source": [
    "data_wide.head()"
   ]
  }
 ],
 "metadata": {
  "anaconda-cloud": {},
  "kernelspec": {
   "display_name": "Intel Python 2",
   "language": "python",
   "name": "intelpython-2.7.12"
  },
  "language_info": {
   "codemirror_mode": {
    "name": "ipython",
    "version": 2
   },
   "file_extension": ".py",
   "mimetype": "text/x-python",
   "name": "python",
   "nbconvert_exporter": "python",
   "pygments_lexer": "ipython2",
   "version": "2.7.12"
  },
  "widgets": {
   "state": {},
   "version": "1.1.2"
  }
 },
 "nbformat": 4,
 "nbformat_minor": 1
}
